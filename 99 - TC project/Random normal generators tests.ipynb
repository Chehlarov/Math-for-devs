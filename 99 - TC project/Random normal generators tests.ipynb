{
 "cells": [
  {
   "cell_type": "code",
   "execution_count": 47,
   "metadata": {},
   "outputs": [],
   "source": [
    "%matplotlib inline\n",
    "import numpy as np\n",
    "import matplotlib.pyplot as plt\n",
    "import time\n",
    "from scipy import stats"
   ]
  },
  {
   "cell_type": "code",
   "execution_count": 2,
   "metadata": {},
   "outputs": [
    {
     "name": "stdout",
     "output_type": "stream",
     "text": [
      "2.4614131450653076\n"
     ]
    }
   ],
   "source": [
    "rng = np.random.default_rng()\n",
    "start = time.time()\n",
    "vals = rng.normal(loc=100, scale=5, size=100_000_000)\n",
    "# print(vals)\n",
    "print(time.time()-start)"
   ]
  },
  {
   "cell_type": "code",
   "execution_count": 3,
   "metadata": {},
   "outputs": [
    {
     "name": "stdout",
     "output_type": "stream",
     "text": [
      "[ 95.05439325  98.16106674 106.43962631 ...  93.47126337  96.12163465\n",
      "  94.73865754]\n",
      "2.551173210144043\n"
     ]
    }
   ],
   "source": [
    "rng = np.random.Generator(np.random.PCG64(123))\n",
    "start = time.time()\n",
    "vals = rng.normal(loc=100, scale=5, size=100_000_000)\n",
    "print(vals)\n",
    "print(time.time()-start)"
   ]
  },
  {
   "cell_type": "code",
   "execution_count": 4,
   "metadata": {},
   "outputs": [
    {
     "name": "stdout",
     "output_type": "stream",
     "text": [
      "[102.86176945 110.09267515 100.01675171 ...  96.26420573 108.69850397\n",
      " 102.3430577 ]\n",
      "2.3327603340148926\n"
     ]
    }
   ],
   "source": [
    "rng = np.random.Generator(np.random.SFC64(123))\n",
    "start = time.time()\n",
    "vals = rng.normal(loc=100, scale=5, size=100_000_000)\n",
    "print(vals)\n",
    "print(time.time()-start)"
   ]
  },
  {
   "cell_type": "code",
   "execution_count": 5,
   "metadata": {},
   "outputs": [
    {
     "name": "stdout",
     "output_type": "stream",
     "text": [
      "[ 98.64161034 101.71986797  88.92563187 ... 105.07795769 102.07667306\n",
      " 106.01465236]\n",
      "5.407534122467041\n"
     ]
    }
   ],
   "source": [
    "rng = np.random.Generator(np.random.Philox(123))\n",
    "start = time.time()\n",
    "vals = rng.normal(loc=100, scale=5, size=100_000_000)\n",
    "print(vals)\n",
    "print(time.time()-start)"
   ]
  },
  {
   "cell_type": "code",
   "execution_count": 18,
   "metadata": {},
   "outputs": [
    {
     "name": "stdout",
     "output_type": "stream",
     "text": [
      "[105.57062694 107.46672826  96.01615819 ...  99.54815189  92.21575885\n",
      "  98.6624866 ]\n",
      "2.2080917358398438\n"
     ]
    }
   ],
   "source": [
    "rng = np.random.Generator(np.random.SFC64(seed=1))\n",
    "start = time.time()\n",
    "vals = rng.normal(loc=100, scale=5, size=100_000_000)\n",
    "print(vals)\n",
    "print(time.time()-start)"
   ]
  },
  {
   "cell_type": "code",
   "execution_count": 22,
   "metadata": {},
   "outputs": [],
   "source": [
    "rng = np.random.Generator(np.random.SFC64(seed=1))"
   ]
  },
  {
   "cell_type": "code",
   "execution_count": 27,
   "metadata": {},
   "outputs": [
    {
     "data": {
      "text/plain": [
       "100.85299552682152"
      ]
     },
     "execution_count": 27,
     "metadata": {},
     "output_type": "execute_result"
    }
   ],
   "source": [
    "rng.normal(loc=100, scale=5)"
   ]
  },
  {
   "cell_type": "code",
   "execution_count": 13,
   "metadata": {},
   "outputs": [
    {
     "name": "stdout",
     "output_type": "stream",
     "text": [
      "98.64161034114468407096865121275186538696289062500000\n"
     ]
    }
   ],
   "source": [
    "print(f\"{vals[0]:.50f}\")"
   ]
  },
  {
   "cell_type": "markdown",
   "metadata": {},
   "source": [
    "We have a lot of digits we actually do not need. I did not find a way to simply the random generations."
   ]
  },
  {
   "cell_type": "markdown",
   "metadata": {},
   "source": [
    "# I will use SFC64 as it is a little faster"
   ]
  },
  {
   "cell_type": "code",
   "execution_count": 122,
   "metadata": {},
   "outputs": [
    {
     "name": "stdout",
     "output_type": "stream",
     "text": [
      "[102.86176945 110.09267515 100.01675171 ...  99.41167451 104.80029549\n",
      " 100.29640935]\n",
      "0.00399017333984375\n"
     ]
    }
   ],
   "source": [
    "rng = np.random.Generator(np.random.SFC64(seed=123))\n",
    "start = time.time()\n",
    "vals = rng.normal(loc=100, scale=5, size=100_000)\n",
    "print(vals)\n",
    "print(time.time()-start)"
   ]
  },
  {
   "cell_type": "code",
   "execution_count": 123,
   "metadata": {},
   "outputs": [
    {
     "name": "stdout",
     "output_type": "stream",
     "text": [
      "[102.86176945 110.09267515 100.01675171 ...  99.41167451 104.80029549\n",
      " 100.29640935]\n",
      "0.3959391117095947\n"
     ]
    }
   ],
   "source": [
    "rng = np.random.Generator(np.random.SFC64(seed=123))\n",
    "start = time.time()\n",
    "vals = np.zeros(100_000)\n",
    "for i in range(100_000):\n",
    "    vals[i] = rng.normal(loc=100, scale=5)\n",
    "print(vals)\n",
    "print(time.time()-start)"
   ]
  },
  {
   "cell_type": "markdown",
   "metadata": {},
   "source": [
    "## The second approach is about 100 times slower!"
   ]
  },
  {
   "cell_type": "code",
   "execution_count": 126,
   "metadata": {},
   "outputs": [],
   "source": [
    "def transform(x):\n",
    "    return 5*x**2 + 3*x + 5\n",
    "\n",
    "\n",
    "transform_v = np.vectorize(transform)"
   ]
  },
  {
   "cell_type": "code",
   "execution_count": 135,
   "metadata": {},
   "outputs": [
    {
     "name": "stdout",
     "output_type": "stream",
     "text": [
      "[53216.30337646 60937.26363379 50321.80336634 ... 54306.24577827\n",
      " 52452.1497821  44664.34340554]\n",
      "0.6682054996490479\n"
     ]
    }
   ],
   "source": [
    "rng = np.random.Generator(np.random.SFC64(seed=123))\n",
    "start = time.time()\n",
    "vals = rng.normal(loc=100, scale=5, size=1000_000)\n",
    "result = transform_v(vals)\n",
    "print(result)\n",
    "print(time.time()-start)"
   ]
  },
  {
   "cell_type": "code",
   "execution_count": 137,
   "metadata": {},
   "outputs": [
    {
     "name": "stdout",
     "output_type": "stream",
     "text": [
      "[53216.30337646 60937.26363379 50321.80336634 ... 54306.24577827\n",
      " 52452.1497821  44664.34340554]\n",
      "5.156207323074341\n"
     ]
    }
   ],
   "source": [
    "rng = np.random.Generator(np.random.SFC64(seed=123))\n",
    "start = time.time()\n",
    "vals = np.zeros(1000_000)\n",
    "result = np.zeros(1000_000)\n",
    "for i in range(1000_000):\n",
    "    value = rng.normal(loc=100, scale=5)\n",
    "    vals[i] = value\n",
    "    result[i] = transform(value)\n",
    "print(result)\n",
    "print(time.time()-start)"
   ]
  },
  {
   "cell_type": "markdown",
   "metadata": {},
   "source": [
    "## The second approach is about 10 times slower!"
   ]
  },
  {
   "cell_type": "markdown",
   "metadata": {},
   "source": [
    "# Generator quality assesment\n",
    "did not manage to evalaute"
   ]
  },
  {
   "cell_type": "code",
   "execution_count": 101,
   "metadata": {},
   "outputs": [
    {
     "data": {
      "image/png": "[encoded data removed]",
      "text/plain": [
       "<Figure size 432x288 with 1 Axes>"
      ]
     },
     "metadata": {
      "needs_background": "light"
     },
     "output_type": "display_data"
    },
    {
     "data": {
      "text/plain": [
       "array([ 97.86131478, 103.7910947 ,  90.58361694,  99.26750512,\n",
       "        96.98038994,  97.56120143, 101.25739828,  95.81224228,\n",
       "        98.21777777,  98.17209967, 103.1304174 ,  97.77930502,\n",
       "       101.12809392,  96.14255716, 100.88015333, 107.04536174,\n",
       "       105.53314057, 101.55009828, 100.34204712, 106.5345854 ,\n",
       "       100.40251958, 101.57464563,  92.67740149,  98.85183985,\n",
       "       106.11832534, 103.46374336,  99.8491093 ,  96.63891671,\n",
       "       102.84846532, 100.75409023,  99.32598354, 105.04727721,\n",
       "        98.41707056,  98.61864665, 102.61084989, 106.03349072,\n",
       "       107.23658433, 101.96747386,  98.90013702, 104.30281557,\n",
       "        95.61401073,  98.33354665,  98.98185299,  95.32497252,\n",
       "        98.97214222,  96.68997134,  98.61446434,  99.77674378,\n",
       "        98.41183097, 114.39820718,  94.16750558, 100.69952233,\n",
       "       110.54014021,  93.24362074,  96.3316758 , 100.97605957,\n",
       "        95.02825435,  90.48285652, 103.41361828,  92.22084124,\n",
       "       100.76718945, 109.02732753, 100.53265061,  99.44280057,\n",
       "       103.96583026,  96.4830633 ,  94.95400689, 100.03904005,\n",
       "        97.80643583, 110.67930376, 103.39788078,  98.99070264,\n",
       "       101.27076456,  99.3245168 , 105.30523528, 102.3187582 ,\n",
       "       100.72079658,  96.04995104,  96.88669996, 108.78470344,\n",
       "        97.46070897,  92.57407247, 105.55173558, 101.46956419,\n",
       "       109.3587372 , 105.48200295, 100.27484476, 101.77388365,\n",
       "        94.90192981,  90.03413796, 107.58208386,  96.91392562,\n",
       "        92.53009597,  98.67370232, 101.81731268, 108.86038285,\n",
       "       102.23526145, 100.89175973,  95.42122935,  92.56280461])"
      ]
     },
     "execution_count": 101,
     "metadata": {},
     "output_type": "execute_result"
    }
   ],
   "source": [
    "rng = np.random.Generator(np.random.SFC64(seed=12394))\n",
    "# start = time.time()\n",
    "vals = rng.normal(loc=100, scale=5, size=100)\n",
    "plt.hist(vals, bins=50)\n",
    "plt.show()\n",
    "vals"
   ]
  },
  {
   "cell_type": "code",
   "execution_count": 94,
   "metadata": {},
   "outputs": [
    {
     "name": "stdout",
     "output_type": "stream",
     "text": [
      "KstestResult(statistic=1.0, pvalue=0.0)\n"
     ]
    },
    {
     "data": {
      "image/png": "[encoded data removed]",
      "text/plain": [
       "<Figure size 432x288 with 1 Axes>"
      ]
     },
     "metadata": {
      "needs_background": "light"
     },
     "output_type": "display_data"
    }
   ],
   "source": [
    "# nsample = 10\n",
    "# np.random.seed(76543215)\n",
    "# ax1 = plt.subplot(221)\n",
    "# x = stats.t.rvs(3, size=nsample)\n",
    "# vals = np.linspace(1,5, 5)\n",
    "res = stats.probplot(vals, plot=plt)\n",
    "print(stats.kstest(vals, stats.norm.cdf, N=2))\n",
    "# print(res)"
   ]
  },
  {
   "cell_type": "code",
   "execution_count": 103,
   "metadata": {},
   "outputs": [
    {
     "data": {
      "text/plain": [
       "KstestResult(statistic=0.07521486184031223, pvalue=0.5967516206604742)"
      ]
     },
     "execution_count": 103,
     "metadata": {},
     "output_type": "execute_result"
    }
   ],
   "source": [
    "np.random.seed(987654322)\n",
    "vals = stats.t.rvs(100, size=100)\n",
    "stats.kstest(vals, 'norm')"
   ]
  },
  {
   "cell_type": "code",
   "execution_count": 105,
   "metadata": {},
   "outputs": [
    {
     "data": {
      "image/png": "[encoded data removed]",
      "text/plain": [
       "<Figure size 432x288 with 1 Axes>"
      ]
     },
     "metadata": {
      "needs_background": "light"
     },
     "output_type": "display_data"
    }
   ],
   "source": [
    "plt.hist(vals, bins=50)\n",
    "plt.show()"
   ]
  },
  {
   "cell_type": "code",
   "execution_count": 148,
   "metadata": {},
   "outputs": [
    {
     "data": {
      "text/plain": [
       "19.446029068997998"
      ]
     },
     "execution_count": 148,
     "metadata": {},
     "output_type": "execute_result"
    }
   ],
   "source": [
    "from numpy.polynomial.polynomial import polyval\n",
    "polyval(3, [0,2.623366,1.286214563222])"
   ]
  },
  {
   "cell_type": "code",
   "execution_count": 153,
   "metadata": {},
   "outputs": [
    {
     "data": {
      "text/plain": [
       "[19.72485, 33.00943, -0.3915159, 0.009855391, -0.0001274371, 7.767022e-07]"
      ]
     },
     "execution_count": 153,
     "metadata": {},
     "output_type": "execute_result"
    }
   ],
   "source": [
    "coeff = [0.0000007767022, -0.0001274371, 0.009855391, -0.3915159, 33.00943, 19.72485]\n",
    "coeff[::-1]\n",
    "\n",
    "    "
   ]
  }
 ],
 "metadata": {
  "kernelspec": {
   "display_name": "Python 3",
   "language": "python",
   "name": "python3"
  },
  "language_info": {
   "codemirror_mode": {
    "name": "ipython",
    "version": 3
   },
   "file_extension": ".py",
   "mimetype": "text/x-python",
   "name": "python",
   "nbconvert_exporter": "python",
   "pygments_lexer": "ipython3",
   "version": "3.8.5"
  }
 },
 "nbformat": 4,
 "nbformat_minor": 4
}
