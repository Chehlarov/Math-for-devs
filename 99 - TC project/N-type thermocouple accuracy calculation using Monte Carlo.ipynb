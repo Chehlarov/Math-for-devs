{
 "cells": [
  {
   "cell_type": "code",
   "execution_count": 1,
   "metadata": {},
   "outputs": [],
   "source": [
    "%matplotlib inline\n",
    "import numpy as np\n",
    "import matplotlib.pyplot as plt\n",
    "import time"
   ]
  },
  {
   "cell_type": "markdown",
   "metadata": {},
   "source": [
    "# Abstract\n",
    "In this study the accuracy of termocouple sensor is calculated using Monte Carlo algorithm."
   ]
  },
  {
   "cell_type": "markdown",
   "metadata": {},
   "source": [
    "# Introduction\n",
    "Thermocouples are widely used for temperature sensors in the automotive industry for measurement of exhaust gas temperature. One of the most suitable thermocouple type is type N. Typical sensor is made from probe, flexible cable and electronics. A pair of solid leads is inserted in the probe. The signal is conducted to the electronics by the flexible wires, which are again type N thermocouple. This is needed to create cold junction close to the electronics, where RTD sensor is used to measure the cold junction temperature. Type N thermocouples are delivered according standards, defining their accuracy. The sensor accuracy depends on the accuracy of the leads pair, flexible wire pair and the electronics. The following project demonstrates how the accuracy of leads and wires are combined using Monte Carlo algorithm. There are several complications that make simpler methods not applicable: the temperature of the weld between leads and wires is not known; the generated voltage is not linearly proportional to the temperature difference; leads and wires are made from different batches and their electromotive force is not equal.\n",
    "![title](DTC.png)"
   ]
  },
  {
   "cell_type": "markdown",
   "metadata": {},
   "source": [
    "In this study both leads and wires are delivered according ASTM E230 Type N thermo couple with accuracy class 1. Below a sensor break down is shown.\n",
    "![title](sensor_breakdown.png)"
   ]
  },
  {
   "cell_type": "markdown",
   "metadata": {},
   "source": [
    "# Goal definition\n",
    "The goal of this study is to calcualte the accuracy of thermocouple sensor made from two TC pairs type N. \n",
    "\n",
    "Inputs:\n",
    "1. TC pairs type N class 1 according ASTM E230\n",
    "2. Assume the supplier of TC pairs is capable Ppk=1 (99.7% confidence;3σ) in the specification limits\n",
    "3. Sensor tip temperatures of interest from 0 to 1100°C\n",
    "4. Assume welds between both TC pairs are at the same temperature. This temeprature is in the range between 0°C and 260°C. It could be also assumed the weld temperature is equal to 0.3 mulltiplied by the temeprature of the tip.\n",
    "5. The temeprature of the cold junction can in the range of 0°C to 150°C\n",
    "6. Assume electronics adds no error.\n",
    "\n",
    "Outputs:\n",
    "1. Temperature accuracy of the sensor in typical (default) conditions (cold junction at 20°C and weld at 0.3*T)\n",
    "2. 4 temperature accuracy curves based on minimum and maximum temperatures of the cold juncion and welds.\n",
    "3. All accuracy values should be delivered with 3σ confidence level\n",
    "4. Acceptable variation from algoritm ouput should be within ±5% of mean value."
   ]
  },
  {
   "cell_type": "markdown",
   "metadata": {},
   "source": [
    "# ASTM E230 review and implementation\n",
    "This section implements the required functions and tables from ASTM E230."
   ]
  },
  {
   "cell_type": "code",
   "execution_count": 2,
   "metadata": {},
   "outputs": [],
   "source": [
    "def leads_accuracy(Thot):\n",
    "    \"\"\"\n",
    "    Thot is the temperature of the hot junction in °C\n",
    "    The output is the absolute maximum acceptable deviation in °C\n",
    "    \"\"\"\n",
    "    if Thot >= 0:\n",
    "        return np.maximum(1.1, 0.004 * Thot)\n",
    "    else:\n",
    "        raise ValueError(\"ASTM E230 Type N class 1 does not cover sub zero temperatures\")\n",
    "\n",
    "def wires_accuracy(Thot):\n",
    "    \"\"\"\n",
    "    Thot is the temperature of the hot junction in °C\n",
    "    The output is the absolute maximum acceptable deviation in °C\n",
    "    \"\"\"\n",
    "    if Thot >= 0:\n",
    "        return np.maximum(1.1, 0.004 * Thot)\n",
    "    else:\n",
    "        raise ValueError(\"ASTM E230 Type N class 1 does not cover sub zero temperatures\")\n"
   ]
  },
  {
   "cell_type": "markdown",
   "metadata": {},
   "source": [
    "Let's plot the limits."
   ]
  },
  {
   "cell_type": "code",
   "execution_count": 3,
   "metadata": {},
   "outputs": [
    {
     "data": {
      "image/png": "[encoded data removed]",
      "text/plain": [
       "<Figure size 432x288 with 1 Axes>"
      ]
     },
     "metadata": {
      "needs_background": "light"
     },
     "output_type": "display_data"
    }
   ],
   "source": [
    "x_values = np.linspace(0, 1100, 100)\n",
    "y_values = np.vectorize(leads_accuracy)(x_values)\n",
    "plt.plot(x_values, y_values)\n",
    "plt.plot(x_values, -y_values)\n",
    "\n",
    "plt.title(\"TC type N class 1 accuracy according ASTM E230\")\n",
    "plt.xlabel(\"Temperature, °C\")\n",
    "plt.ylabel(\"Error, °C\")\n",
    "plt.show()"
   ]
  },
  {
   "cell_type": "markdown",
   "metadata": {},
   "source": [
    "It is important to note that any curve within the limits defined above is acceptable. It is possible some TC batch to show curve strating from the lower psecification limit (LSL) goes up to upper specification limit (USL) and then goes down to LSL."
   ]
  },
  {
   "cell_type": "markdown",
   "metadata": {},
   "source": [
    "In order to make the transformations from the generated voltage to temperature and reverse, we need to define functions for the nominal transformation. These functions are polynoms, also defined in ASTM E230. The polynom coeficents depends on the voltage of interest, so several sets of polynoms are defined."
   ]
  },
  {
   "cell_type": "code",
   "execution_count": 4,
   "metadata": {},
   "outputs": [],
   "source": [
    "def get_temperature_from_emf(emf):\n",
    "    \"\"\"\n",
    "    acc ASTM E230, table 46 TYPE N Thermocouple\n",
    "    E is the thermocouple emf in mV\n",
    "    returns in °C\n",
    "    \"\"\"\n",
    "    coeff1 = [0, 38.436847, 1.1010485, 5.2229312, 7.2060525, 5.8488586, 2.7754916, 0.77075166, 0.11582665, 0.0073138868]\n",
    "    coeff2 = [0, 38.6896, -1.08267, 0.0470205, -2.12169e-06, -0.000117272, 5.3928e-06, -7.98156e-08]\n",
    "    coeff3 = [19.72485, 33.00943, -0.3915159, 0.009855391, -0.0001274371, 7.767022e-07]\n",
    "    if 0 <= emf < 20.613:\n",
    "        return np.polynomial.polynomial.polyval(emf, coeff2)\n",
    "    elif 20.613 <= emf <= 47.513:\n",
    "        return np.polynomial.polynomial.polyval(emf, coeff3)\n",
    "    elif -3.99 <= emf < 0:\n",
    "        return poly1(emf)\n",
    "    else:\n",
    "        raise ValueError(f\"EMF value of {emf}mV is outside specified range!\")\n",
    "    \n",
    "    \n",
    "def get_emf_from_temperature(t):\n",
    "    \"\"\"\n",
    "    acc ASTM E230, \n",
    "    t is the thermocouple hot junction temperature in °C\n",
    "    returns in mv\n",
    "    \"\"\"\n",
    "    coeff1 = [0, 0.026159105962, 1.0957484228e-05, -9.3841111554e-08, -4.6412039759e-11, -2.633357716e-12, -2.2653438003e-14, -7.608930791e-17, -9.3419667835e-20]\n",
    "    coeff2 = [0, 0.025929394601, 1.571014188e-05, 4.3825627237e-08, -2.5261169794e-10, 6.4311819339e-13, -1.0063471519e-15, 9.9745338992e-19, -6.0863245607e-22, 2.0849229339e-25, -3.0682196151e-29]\n",
    "    if 0 <= t <= 1300:\n",
    "        return np.polynomial.polynomial.polyval(t, coeff2)\n",
    "    elif -270 <= t < 0:\n",
    "        return np.polynomial.polynomial.polyval(t, coeff1)\n",
    "    else:\n",
    "        raise ValueError(\"Temperature outside specified range -270 to 1300°C\")\n",
    "    \n",
    "    \n",
    "def get_emf_derivative(t):\n",
    "    \"\"\"\n",
    "    acc ASTM E230, \n",
    "    t is the thermocouple hot junction temperature in °C\n",
    "    returns in mv\n",
    "    \"\"\"\n",
    "    coeff1 = [0, 0.026159105962, 1.0957484228e-05, -9.3841111554e-08, -4.6412039759e-11, -2.633357716e-12, -2.2653438003e-14, -7.608930791e-17, -9.3419667835e-20]\n",
    "    coeff2 = [0, 0.025929394601, 1.571014188e-05, 4.3825627237e-08, -2.5261169794e-10, 6.4311819339e-13, -1.0063471519e-15, 9.9745338992e-19, -6.0863245607e-22, 2.0849229339e-25, -3.0682196151e-29]\n",
    "    if 0 <= t <= 1300:\n",
    "        coeff_of_dervived = np.polynomial.polynomial.polyder(coeff2)\n",
    "        return np.polynomial.polynomial.polyval(t, coeff_of_dervived)\n",
    "    elif -270 <= t < 0:\n",
    "        coeff_of_dervived = np.polynomial.polynomial.polyder(coeff1)\n",
    "        return np.polynomial.polynomial.polyval(t, coeff_of_dervived)\n",
    "    else:\n",
    "        raise ValueError(\"Temperature outside specified range -270 to 1300°C\")"
   ]
  },
  {
   "cell_type": "markdown",
   "metadata": {},
   "source": [
    "Keep in mind the forward and backward fucntion are approximations. Small diffrences are expected.. Let's plot the relation between electromotive force (EMF) and temperature:"
   ]
  },
  {
   "cell_type": "code",
   "execution_count": 9,
   "metadata": {},
   "outputs": [
    {
     "data": {
      "image/png": "[encoded data removed]",
      "text/plain": [
       "<Figure size 432x288 with 1 Axes>"
      ]
     },
     "metadata": {
      "needs_background": "light"
     },
     "output_type": "display_data"
    }
   ],
   "source": [
    "x_values = np.linspace(-200, 1300, 100)\n",
    "y_values = np.vectorize(get_emf_from_temperature)(x_values)\n",
    "plt.plot(x_values, y_values)\n",
    "plt.title(\"EMF vs T for Type N thermocouple\")\n",
    "plt.xlabel(\"Temperature, °C\")\n",
    "plt.ylabel(\"EMF, mV\")\n",
    "plt.show()"
   ]
  },
  {
   "cell_type": "markdown",
   "metadata": {},
   "source": [
    "The function is close to linear, but some curviture is easily seen.\n",
    "Now let's see the first derivative. This gives indication for the sensitivity of the TC. For research purposes linear functions will be difined. The average slope is approximated from the first derivative."
   ]
  },
  {
   "cell_type": "code",
   "execution_count": 13,
   "metadata": {},
   "outputs": [
    {
     "data": {
      "image/png": "[encoded data removed]",
      "text/plain": [
       "<Figure size 432x288 with 1 Axes>"
      ]
     },
     "metadata": {
      "needs_background": "light"
     },
     "output_type": "display_data"
    }
   ],
   "source": [
    "x_values = np.linspace(-200, 1300, 100)\n",
    "y_values = np.vectorize(get_emf_derivative)(x_values) * 1000\n",
    "plt.plot(x_values, y_values)\n",
    "plt.title(\"dEMF/dT vs T for Type N thermocouple\")\n",
    "plt.xlabel(\"Temperature, °C\")\n",
    "plt.ylabel(\"EMF, µV/°C\")\n",
    "plt.show()"
   ]
  },
  {
   "cell_type": "code",
   "execution_count": 14,
   "metadata": {},
   "outputs": [],
   "source": [
    "def get_emf_from_temperature_linear(emf):\n",
    "    return emf / 0.035\n",
    "\n",
    "def get_emf_from_temperature_linear(t):\n",
    "    return t * 0.035"
   ]
  },
  {
   "cell_type": "markdown",
   "metadata": {},
   "source": [
    "# How does the sensor work\n",
    "![title](TC_schema.png)\n",
    "Steps to calculate the hot junction temperature:\n",
    "1. ASIC measures the cold junction temperature (T2)\n",
    "2. The ASIC measures the voltage across the cold junction (V2)\n",
    "3. Calcualtes the expected V1 = f(T2)\n",
    "4. Calcualtes V3 = V1 + V2\n",
    "5. Calculates the hot junction temperature T3 = f(V3)"
   ]
  },
  {
   "cell_type": "markdown",
   "metadata": {},
   "source": [
    "# Accuracy calculations\n",
    "If the sensor was made from only one pair of leads, the accuracy is straightforward - defined in ASTM E230. However, the sensor consists of two pairs produced from diffrent material batches. The actual EMF characteristic may (will) differ for the leads and wires. It will be assumed the accuracy of delivered batches follows normal distribution with 3 sigma confidnce (Ppk=1). Such assumption is normal practise in the inidustry. Higher Ppk values could be requested, but are deemed as not feasable due to technology limitations and expected price increase.\n",
    "Keep in mind that both ends of one TC pair add error. \n",
    "It will be assumed the temperature of the weld between the leads and wires is at the minimum of 0.3*T and 260°C. This assumption is realsitic, the upper limit of 260°C is defined by the resistance of the FKM seal. Also the accuracy limits are the same (±1.1°C) up to 275°C.\n",
    "The temperature of the cold junction will be assumed 25°C. This value is below 275°C and the added error will be ±1.1°C.\n"
   ]
  },
  {
   "cell_type": "code",
   "execution_count": null,
   "metadata": {},
   "outputs": [],
   "source": [
    "def error_monte_carlo(t, t_weld = None, t_cold_junction = None, number_of_combos = None, model='E230'):\n",
    "    start_time = time.time()\n",
    "    if t_weld is None:\n",
    "        t_weld = np.minimum(0.3*t, 260)\n",
    "    if t_cold_junction is None:\n",
    "        t_cold_junction = 20\n",
    "    if number_of_combos is None:\n",
    "        number_of_combos = 10000\n",
    "    if model=='E230':\n",
    "        emf_from_temperature = emf_typeN\n",
    "        temperature_from_emf = temperature_typeN\n",
    "    elif model=='linear':\n",
    "        emf_from_temperature = emf_typeN_linear\n",
    "        temperature_from_emf = temperature_typeN_linear\n",
    "    rng_1 = np.random.Generator(np.random.SFC64(seed=9729))\n",
    "    rng_2 = np.random.Generator(np.random.SFC64(seed=4593))\n",
    "    rng_3 = np.random.Generator(np.random.SFC64(seed=7925))\n",
    "    rng_4 = np.random.Generator(np.random.SFC64(seed=1687))\n",
    "        \n",
    "    errors = np.zeros(number_of_combos, dtype=float)\n",
    "    for i in range(number_of_combos):\n",
    "        v_leads = emf_from_temperature(rng_1.normal(loc=t, scale=leads_accuracy(t) / 3)) - \\\n",
    "                  emf_from_temperature(rng_2.normal(loc=t_weld, scale=leads_accuracy(t_weld) / 3))\n",
    "        v_wires = emf_from_temperature(rng_3.normal(loc=t_weld, scale=wires_accuracy(t_weld) / 3)) - \\\n",
    "                  emf_from_temperature(rng_4.normal(loc=t_cold_junction, scale=wires_accuracy(t_cold_junction) / 3))\n",
    "        v_cold_junction = v_leads + v_wires\n",
    "        # we are assuming the electronics adds no error; below is the calcualtion done by the electronics\n",
    "        v_cold_junction_ref = emf_typeN(t_cold_junction)    \n",
    "        t_calculated = temperature_from_emf(v_cold_junction + v_cold_junction_ref)\n",
    "        errors[i] = t_calculated - t\n",
    "    print(f\"It took {time.time()-start_time}s to calculate\")\n",
    "    return errors\n",
    "\n",
    "def range_of_error_monte_carlo(t, t_weld = None, t_cold_junction = None, number_of_combos = None, model='E230'):\n",
    "    errors = error_monte_carlo(t, t_weld, t_cold_junction, number_of_combos, model)\n",
    "    return np.mean(errors), np.std(errors)"
   ]
  },
  {
   "cell_type": "markdown",
   "metadata": {},
   "source": [
    "Testing the function at 1000°C:"
   ]
  },
  {
   "cell_type": "code",
   "execution_count": null,
   "metadata": {},
   "outputs": [],
   "source": [
    "errors = error_monte_carlo(1000)\n",
    "sigma = np.std(errors)\n",
    "miu = np.mean(errors)\n",
    "print(f\"The expected error at 1000°C is within {miu:.2f}±{3*sigma:.2f}°C with 3σ confidence.\")\n",
    "count, bins, ignored = plt.hist(errors, 30, density=True)\n",
    "plt.plot(bins, 1/(sigma * np.sqrt(2 * np.pi)) * np.exp( - (bins - miu)**2 / (2 * sigma**2) ), linewidth=2, color='r')\n",
    "plt.xlabel(\"Error at 1000°C, °C\")\n",
    "plt.ylabel(\"Probability\")\n",
    "plt.show()"
   ]
  },
  {
   "cell_type": "markdown",
   "metadata": {},
   "source": [
    "Results are as expected.Note the shape looks like normal distribution, but it is not. The input is normally distributed, but the model is non-linear so the output is not normal. In this case the model is close to linear and the deviation is small."
   ]
  },
  {
   "cell_type": "code",
   "execution_count": null,
   "metadata": {},
   "outputs": [],
   "source": [
    "# let's try to speed up the calcualtion\n",
    "def fast_error_monte_carlo(t, t_weld = None, t_cold_junction = None, number_of_combos = None, model='E230'):\n",
    "    start_time = time.time()\n",
    "    if t_weld is None:\n",
    "        t_weld = np.minimum(0.3*t, 260)\n",
    "    if t_cold_junction is None:\n",
    "        t_cold_junction = 20\n",
    "    if number_of_combos is None:\n",
    "        number_of_combos = 10000\n",
    "    if model=='E230':\n",
    "        emf_from_temperature = emf_typeN_fast\n",
    "        temperature_from_emf = temperature_typeN_fast\n",
    "    elif model=='linear':\n",
    "        emf_from_temperature = emf_typeN_linear\n",
    "        temperature_from_emf = temperature_typeN_linear\n",
    "        \n",
    "    rng_1 = np.random.Generator(np.random.Philox(seed=9729)) # Philox(high quality) or SFC64 (fast); time diffrence not dramatic\n",
    "    rng_2 = np.random.Generator(np.random.Philox(seed=4593))\n",
    "    rng_3 = np.random.Generator(np.random.Philox(seed=7925))\n",
    "    rng_4 = np.random.Generator(np.random.Philox(seed=1687))\n",
    "    \n",
    "    leads_std_accuracy_hot = leads_accuracy(t) / 3\n",
    "    leads_std_accuracy_cold = leads_accuracy(t_weld) / 3\n",
    "    wires_std_accuracy_hot = wires_accuracy(t_weld) / 3\n",
    "    wires_std_accuracy_cold = wires_accuracy(t_cold_junction) / 3\n",
    "    \n",
    "    emf_from_temperature_v = np.vectorize(emf_from_temperature)\n",
    "    temperature_from_emf_v = np.vectorize(temperature_from_emf)\n",
    "    \n",
    "#     print(f\"It took {time.time()-start_time}s to adjust\")\n",
    "    v_leads = emf_from_temperature_v(rng_1.normal(loc=t, scale=leads_std_accuracy_hot, size = number_of_combos)) - \\\n",
    "              emf_from_temperature_v(rng_2.normal(loc=t_weld, scale=leads_std_accuracy_cold, size = number_of_combos))\n",
    "#     print(f\"It took {time.time()-start_time}s to calc v_lead\")    \n",
    "    v_wires = emf_from_temperature_v(rng_3.normal(loc=t_weld, scale=wires_std_accuracy_hot, size = number_of_combos)) - \\\n",
    "              emf_from_temperature_v(rng_4.normal(loc=t_cold_junction, scale=wires_std_accuracy_cold, size = number_of_combos))\n",
    "#     print(f\"It took {time.time()-start_time}s to calc v_lead and v_wires\")\n",
    "    v_cold_junction = v_leads + v_wires\n",
    "    v_cold_junction_ref = emf_typeN(t_cold_junction) \n",
    "    t_calculated = temperature_from_emf_v(v_cold_junction + v_cold_junction_ref)\n",
    "    errors = t_calculated - t\n",
    "    \n",
    "#     print(f\"It took {time.time()-start_time}s to calculate\")\n",
    "    return errors"
   ]
  },
  {
   "cell_type": "code",
   "execution_count": null,
   "metadata": {},
   "outputs": [],
   "source": [
    "errors = fast_error_monte_carlo(1000)\n",
    "sigma = np.std(errors)\n",
    "miu = np.mean(errors)\n",
    "print(f\"The expected error at 1000°C is within {miu:.2f}±{3*sigma:.2f}°C with 3σ confidence.\")\n",
    "count, bins, ignored = plt.hist(errors, 30, density=True)\n",
    "plt.plot(bins, 1/(sigma * np.sqrt(2 * np.pi)) * np.exp( - (bins - miu)**2 / (2 * sigma**2) ), linewidth=2, color='r')\n",
    "plt.xlabel(\"Error at 1000°C, °C\")\n",
    "plt.ylabel(\"Probability\")\n",
    "plt.show()"
   ]
  },
  {
   "cell_type": "code",
   "execution_count": null,
   "metadata": {},
   "outputs": [],
   "source": [
    "errors = fast_error_monte_carlo(1000, model='linear')\n",
    "sigma = np.std(errors)\n",
    "miu = np.mean(errors)\n",
    "print(f\"The expected error at 1000°C is within {miu:.2f}±{3*sigma:.2f}°C with 3σ confidence.\")\n",
    "count, bins, ignored = plt.hist(errors, 30, density=True)\n",
    "plt.plot(bins, 1/(sigma * np.sqrt(2 * np.pi)) * np.exp( - (bins - miu)**2 / (2 * sigma**2) ), linewidth=2, color='r')\n",
    "plt.xlabel(\"Error at 1000°C, °C\")\n",
    "plt.ylabel(\"Probability\")\n",
    "plt.show()"
   ]
  },
  {
   "cell_type": "markdown",
   "metadata": {},
   "source": [
    "It is much faster (150x) with linear approximation of the emf model. Unfortunetly it is not precise at all."
   ]
  },
  {
   "cell_type": "markdown",
   "metadata": {},
   "source": [
    "### How many combinations do we need?\n",
    "More combinations will give more accuracte calcaultions, but infinity is not an option. We first have to set a target for calcualtion accuracy. Stepping on AIAG standards for measurment accuracy, the results of indepenedant measurments should not differ by more than 5%. At each propsoed number of combinations we will run 10 independant runs and check the variation. Some simplifications will be made."
   ]
  },
  {
   "cell_type": "code",
   "execution_count": null,
   "metadata": {
    "scrolled": true
   },
   "outputs": [],
   "source": [
    "def measurment_accuracy_mc():\n",
    "    t_start = time.time()\n",
    "    temperatures = [100, 275, 640, 1000] # temperatures for which the stability of the implementation will be checked\n",
    "    cmap = [\"blue\", \"yellow\", \"orange\", \"red\"]\n",
    "    plot_mean = dict()\n",
    "    plot_std = dict()\n",
    "    x = list(range(1000, 15001, 1000))\n",
    "    x.extend(list(range(20000, 50001, 2000))) #number of combinations to analyze\n",
    "    for t in temperatures:\n",
    "        plot_mean[t] = []\n",
    "        plot_std[t] = [] \n",
    "        t_start_data_pool = time.time()\n",
    "        data_pool = fast_error_monte_carlo(t, number_of_combos = 2*np.max(x)) # it is imperative the data pool to be larger than the number of values we pick\n",
    "        t_end_data_pool = time.time()\n",
    "        print(f\"Data pool for t = {t}°C created for {t_end_data_pool-t_start_data_pool:.2f}s\")\n",
    "        for n_combos in x:\n",
    "            run_means_results = []\n",
    "            run_std_results = []\n",
    "            for run in range(0, 50):\n",
    "                data_sub_set = np.random.choice(data_pool, size=n_combos) \n",
    "                mean = np.mean(data_sub_set)\n",
    "                stdev = np.std(data_sub_set)\n",
    "                run_means_results.append(mean)\n",
    "                run_std_results.append(stdev)\n",
    "#             mean_of_std = np.mean(run_std_results)\n",
    "            std_error_range = np.max(run_std_results) - np.min(run_std_results) \n",
    "            plot_mean[t].append(np.mean(run_means_results))\n",
    "            plot_std[t].append(std_error_range)\n",
    "\n",
    "    for i, t in enumerate(temperatures):\n",
    "        plt.plot(x, plot_std[t], color = cmap[i], label=f\"{t}°C\")\n",
    "#     plt.plot([np.min(x), np.max(x)], [5, 5], color = \"green\", label=\"5% limit\")\n",
    "    plt.title(\"Stdev error range (max-min)\")\n",
    "    plt.xlabel(\"Number of combinations\")\n",
    "    plt.ylabel(\"Stdev error range, °C\")\n",
    "    plt.legend(loc=\"upper right\")\n",
    "    plt.show()\n",
    "    \n",
    "    for i, t in enumerate(temperatures):\n",
    "        plt.plot(x, plot_mean[t], color = cmap[i], label=f\"{t}°C\")\n",
    "    plt.title(\"Mean value trend of run\")\n",
    "    plt.xlabel(\"Number of combinations\")\n",
    "    plt.ylabel(\"mean value, °C\")\n",
    "    plt.legend()\n",
    "    plt.show()\n",
    "    t_end = time.time()\n",
    "    print(f\"Total calculation time {t_end-t_start:.2f}s\")\n",
    "    \n",
    "measurment_accuracy_mc()"
   ]
  },
  {
   "cell_type": "markdown",
   "metadata": {},
   "source": [
    "The mean value is close to 0, but it is clear it is not 0. The polynomial functions defined for the EMF to temeprature transitions are approximate. The forward and backward functiond do not produce the same reuslt. The code below checks if this is the reason for the non-zero means."
   ]
  },
  {
   "cell_type": "code",
   "execution_count": null,
   "metadata": {},
   "outputs": [],
   "source": [
    "d100 = temperature_typeN(emf_typeN(100)) - 100\n",
    "d275 = temperature_typeN(emf_typeN(275)) - 275 \n",
    "d640 = temperature_typeN(emf_typeN(640)) - 640\n",
    "d1000 = temperature_typeN(emf_typeN(1000)) - 1000\n",
    "print(f\"The polynomial transoformations at 100°C will produce error of {d100:.3f}°C\")\n",
    "print(f\"The polynomial transoformations at 275°C will produce error of {d275:.3f}°C\")\n",
    "print(f\"The polynomial transoformations at 640°C will produce error of {d640:.3f}°C\")\n",
    "print(f\"The polynomial transoformations at 1000°C will produce error of {d1000:.3f}°C\")"
   ]
  },
  {
   "cell_type": "markdown",
   "metadata": {},
   "source": [
    "The mean errors are close to the error from forward and backward transformation."
   ]
  },
  {
   "cell_type": "code",
   "execution_count": null,
   "metadata": {
    "scrolled": true
   },
   "outputs": [],
   "source": [
    "def measurment_accuracy_mc2():\n",
    "    t_start = time.time()\n",
    "#     temperatures = [100, 275, 640, 1000] # temperatures for which the stability of the implementation will be checked\n",
    "    temperatures = [1000]\n",
    "    cmap = [\"blue\", \"yellow\", \"orange\", \"red\"]\n",
    "    plot_mean = dict()\n",
    "    plot_std = dict()\n",
    "    x = list(range(5000, 100_001, 500))\n",
    "#     x.extend(list(range(20000, 250001, 2000))) #number of combinations to analyze\n",
    "    for t in temperatures:\n",
    "        plot_mean[t] = []\n",
    "        plot_std[t] = [] \n",
    "        t_start_data_pool = time.time()\n",
    "        data_pool = fast_error_monte_carlo(t, number_of_combos = 3*np.max(x)) # it is imperative the data pool to be larger than the number of values we pick\n",
    "        t_end_data_pool = time.time()\n",
    "        print(f\"Data pool for t = {t}°C created for {t_end_data_pool-t_start_data_pool:.2f}s\")\n",
    "        for n_combos in x:\n",
    "            data_sub_set = np.random.choice(data_pool, size=n_combos) \n",
    "            mean = np.mean(data_sub_set)\n",
    "            stdev = np.std(data_sub_set)\n",
    "            plot_mean[t].append(mean)\n",
    "            plot_std[t].append(stdev)\n",
    "\n",
    "    plt.title(\"Mean varaition\")\n",
    "    plt.xlabel(\"Number of combinations/1000\")\n",
    "    plt.ylabel(\"mean, °C\")\n",
    "    for i, t in enumerate(temperatures):\n",
    "        plt.plot(x, plot_mean[t], color = cmap[i], label=f\"{t}°C mean\", alpha=0.5)\n",
    "    plt.xticks([i*1000 for i in range(5, 101, 5)], [str(i) for i in range(5, 101, 5)])\n",
    "#     plt.ylim(0, 0.2)\n",
    "    plt.legend(loc=\"upper right\")\n",
    "    plt.show()\n",
    "    \n",
    "    plt.title(\"std varaition\")\n",
    "    plt.xlabel(\"Number of combinations/1000\")\n",
    "    plt.ylabel(\"std, °C\")\n",
    "    for i, t in enumerate(temperatures):\n",
    "        plt.plot(x, plot_std[t], color = cmap[i], label=f\"{t}°C std\", alpha=0.5)\n",
    "#         plt.plot(x, plot_std[t] / plot_std[t][-1], color = cmap[i], label=f\"{t}°C std\", alpha=0.5)\n",
    "        \n",
    "    plt.xticks([i*1000 for i in range(5, 101, 5)], [str(i) for i in range(5, 101, 5)])\n",
    "#     plt.ylim(0.995, 1.005)\n",
    "    plt.legend(loc=\"upper right\")\n",
    "    plt.show()\n",
    "    \n",
    "    t_end = time.time()\n",
    "    print(f\"Total calculation time {t_end-t_start:.2f}s\")\n",
    "    \n",
    "measurment_accuracy_mc2()"
   ]
  },
  {
   "cell_type": "markdown",
   "metadata": {},
   "source": [
    "The data shows 10000 combinations cover the 5% requirment with enough confidence. \n",
    "More combinations do not improve significantly the accuracy. Maybe we have reached numeric error limit. \n",
    "Practically, all the calcualtion time is spend in generating the data pools.\n",
    "The mean value is close to the true value of 0."
   ]
  },
  {
   "cell_type": "markdown",
   "metadata": {},
   "source": [
    "# Calculating the error\n",
    "Below the expected error range is calcualted with 3σ confidence."
   ]
  },
  {
   "cell_type": "code",
   "execution_count": null,
   "metadata": {},
   "outputs": [],
   "source": [
    "def plot_mc_errors(t_min, t_max, model='E230'):\n",
    "    x = np.linspace(t_min, t_max, 20)\n",
    "    x = np.sort(np.append(x, [1.1/0.004])) #adding a key point from lead accuracy specificaion\n",
    "    temperature_cases = {\"default\": [None, None, \"red\"],\n",
    "                         \"case 0, 0\": [0, 0, \"blue\"],\n",
    "                         \"case 260, 0\": [260, 0, \"yellow\"],\n",
    "                         \"case 0, 150\": [0, 150, \"magenta\"],                         \n",
    "                         \"case 260, 150\": [260, 150, \"orange\"]}\n",
    "    envelop_temp = []\n",
    "    calc_mc_mean_and_stdev = np.vectorize(range_of_error_monte_carlo)\n",
    "    plt.title(\"Error using Monte Carlo\")\n",
    "    plt.xlabel(\"Temperature, °C\")\n",
    "    plt.ylabel(\"3σ temperature error, °C\")\n",
    "    for key, value in temperature_cases.items():\n",
    "        _, y_dev = calc_mc_mean_and_stdev(x, t_weld=value[0], t_cold_junction=value[1], model=model)\n",
    "        envelop_temp.append(y_dev)\n",
    "        plt.plot(x, 3*y_dev, color = value[2], label=key)\n",
    "        plt.plot(x, -3*y_dev, color = value[2])\n",
    "    plt.legend()\n",
    "    plt.show()\n",
    "    envelop = []\n",
    "    for i in range(len(envelop_temp[0])):\n",
    "        envelop.append(max([3*v[i] for v in envelop_temp]))\n",
    "    return x, np.array(envelop)"
   ]
  },
  {
   "cell_type": "code",
   "execution_count": null,
   "metadata": {},
   "outputs": [],
   "source": [
    "envelop_data = plot_mc_errors(0, 1100)"
   ]
  },
  {
   "cell_type": "markdown",
   "metadata": {},
   "source": [
    "The graphs look similar and continues. In order to define sensor accuracy to be used for customers, a practical definition must be found. Let's try to fit third order polynom to the envelop. For simplicity we will use only the positive part of the specification. Also for simplicity we will round the coeficents."
   ]
  },
  {
   "cell_type": "code",
   "execution_count": null,
   "metadata": {},
   "outputs": [],
   "source": [
    "coef = np.polyfit(envelop_data[0], envelop_data[1], 3)\n",
    "coef = [np.round(c, 10) for c in coef]\n",
    "print(f\"sensor accuracy specification ±({coef[3]} + {coef[2]}*T + {coef[1]}*T^2 + {coef[0]}*T^3)\")\n",
    "poly = np.poly1d(coef)\n",
    "\n",
    "plot_x = envelop_data[0]\n",
    "plot_y = poly(plot_x)\n",
    "\n",
    "plt.title(\"Polynomial fit of envelop from Monte Carlo\")\n",
    "plt.plot(plot_x, plot_y, c = \"green\", label=\"fit\")\n",
    "plt.scatter(envelop_data[0], envelop_data[1], label=\"Monte Carlo calcualtion points\")\n",
    "plt.xlabel(\"Temperature, °C\")\n",
    "plt.ylabel(\"3σ temperature error, °C\")\n",
    "plt.legend()\n",
    "plt.show()"
   ]
  },
  {
   "cell_type": "markdown",
   "metadata": {},
   "source": [
    "The third degree polynominal fit gives good match to the Monte Carlo results."
   ]
  },
  {
   "cell_type": "markdown",
   "metadata": {},
   "source": [
    "# Discussion\n",
    "### Comparion between Monte Carlo, SRSS and worst case.\n",
    "A question is raised what other alternatives to Monte Carlo can be used. The EMF model is close to linear. If we assume it is close enough, we can to use the square root of sum of squares root. SRSS rule is valid when normal distributions are summed or substracted.\n",
    "Other possible approach is to sum the specifications for leads and wires. Such sum will give quite conservative resuslts, but such combination of border cases is very unlikely.\n",
    "Let's implement and comapre the approaches. Please note the ASTM specification defines constant values up to 1.1/0.004=275°C. The cold junction and weld temperatures are within the constant 1.1°C accuracy.\n"
   ]
  },
  {
   "cell_type": "code",
   "execution_count": null,
   "metadata": {},
   "outputs": [],
   "source": [
    "plt.title(\"Comaprison between diffrent approaches\")\n",
    "plt.xlabel(\"Temperature, °C\")\n",
    "plt.ylabel(\"3σ temperature error, °C\")\n",
    "\n",
    "plot_x = envelop_data[0]\n",
    "\n",
    "#Monte Carlo\n",
    "plt.plot(plot_x, envelop_data[1], c = \"green\", label=\"Monte Carlo\")\n",
    "\n",
    "#SRSS\n",
    "srss_accuracy = 3*np.sqrt((np.vectorize(leads_accuracy)(plot_x) / 3)**2 + (leads_accuracy(0) / 3)**2 + \\\n",
    "                        (wires_accuracy(0) / 3)**2 + (wires_accuracy(0) / 3)**2)\n",
    "plt.plot(plot_x, srss_accuracy, c = \"blue\", label=\"SRSS\")\n",
    "\n",
    "#Worst case\n",
    "worst_case_accuracy = 3*((np.vectorize(leads_accuracy)(plot_x) / 3) + \\\n",
    "                        (leads_accuracy(0) / 3) + \\\n",
    "                        (wires_accuracy(0) / 3) + \\\n",
    "                        (wires_accuracy(0) / 3)) \n",
    "plt.plot(plot_x, worst_case_accuracy, c = \"red\", label=\"Worst case\")\n",
    "\n",
    "plt.legend()\n",
    "plt.show()"
   ]
  },
  {
   "cell_type": "markdown",
   "metadata": {},
   "source": [
    "The SRSS results are close to Monte Carlo. In the next paragraph this observation will elaborated. SRSS is not on the safe side at low temperatures."
   ]
  },
  {
   "cell_type": "markdown",
   "metadata": {},
   "source": [
    "### What if the EMF(T) model was linear?\n",
    "It is suspected that the small deviation of the EMF(T) model is the root cause for the diffrence between Monte Carlo and SRSS results. \n",
    "At first glance it is a little strange why the error is larger at 0°C than at 200°C. The accuracy of both leads and wires is constant at ±1.1°C up to 275°C. However, the function EMF(t) is not linear; the slope of the EMF(t) function changes significantly between 0°C and 200°C.\n",
    "In the implementation below the calcualtions are repeated if the EMF(T) model was linear only for ilustration purposes."
   ]
  },
  {
   "cell_type": "code",
   "execution_count": null,
   "metadata": {},
   "outputs": [],
   "source": [
    "x = np.linspace(0, 1100, 100)\n",
    "y1 = np.vectorize(emf_typeN_linear)(x)\n",
    "y2 = np.vectorize(emf_typeN)(x)\n",
    "plt.plot(x, y1, label=\"linear\")\n",
    "plt.plot(x, y2, label=\"true\")\n",
    "plt.title(\"Linear approxiamtion\")\n",
    "plt.xlabel(\"Temperature, °C\")\n",
    "plt.ylabel(\"EMF, mV\")\n",
    "plt.legend()\n",
    "plt.show()"
   ]
  },
  {
   "cell_type": "code",
   "execution_count": null,
   "metadata": {},
   "outputs": [],
   "source": [
    "envelop_data = plot_mc_errors(0, 1100, 'linear')"
   ]
  },
  {
   "cell_type": "markdown",
   "metadata": {},
   "source": [
    "All temeprature combinataions produce the same result. Note that the function looks bilinear, similar to the leads and wire specification. Let's compare this result with the SRSS approach."
   ]
  },
  {
   "cell_type": "code",
   "execution_count": null,
   "metadata": {},
   "outputs": [],
   "source": [
    "plt.title(\"Comaprison between diffrent approaches\")\n",
    "plt.xlabel(\"Temperature, °C\")\n",
    "plt.ylabel(\"3σ temperature error, °C\")\n",
    "\n",
    "plot_x = envelop_data[0]\n",
    "\n",
    "#Monte Carlo linear model\n",
    "plt.plot(plot_x, envelop_data[1], c = \"green\", label=\"Monte Carlo linear model\")\n",
    "\n",
    "#SRSS\n",
    "srss_accuracy = 3*np.sqrt((np.vectorize(leads_accuracy)(plot_x) / 3)**2 + (leads_accuracy(0) / 3)**2 + \\\n",
    "                        (wires_accuracy(0) / 3)**2 + (wires_accuracy(0) / 3)**2)\n",
    "plt.plot(plot_x, srss_accuracy, c = \"blue\", label=\"SRSS\")\n",
    "\n",
    "#Worst case\n",
    "worst_case_accuracy = 3*((np.vectorize(leads_accuracy)(plot_x) / 3) + \\\n",
    "                        (leads_accuracy(0) / 3) + \\\n",
    "                        (wires_accuracy(0) / 3) + \\\n",
    "                        (wires_accuracy(0) / 3)) \n",
    "plt.plot(plot_x, worst_case_accuracy, c = \"red\", label=\"Worst case\")\n",
    "\n",
    "plt.legend()\n",
    "plt.show()"
   ]
  },
  {
   "cell_type": "markdown",
   "metadata": {},
   "source": [
    "The SRSS method and Monte Carlo approach give the same temperature error, if the EMF model is linear."
   ]
  },
  {
   "cell_type": "markdown",
   "metadata": {},
   "source": [
    "# Conclusion\n",
    "The accuracy of a TC can be calculated with the demonstrated Monte Carlo algoritm. SRSS is a quick and dirty alternative that can be used for rough estimation only, it tends to be on the safe side for most of the temperatures. Worst case (sum of all errors) would indicate much bigger error, but the probability to have 4 factors at border is very small.\n",
    "With minor modifications of the code above, one could adjust the calcualtions to evaluate similar scenarios. \n"
   ]
  },
  {
   "cell_type": "markdown",
   "metadata": {},
   "source": [
    "# References\n",
    "1. ASTM E230; Standard Specification and Temperature-Electromotive Force (EMF) Tables for Standardized Thermocouples <a href=\"https://www.astm.org/Standards/E230.htm\">link</a>\n",
    "2. The Type N Thermocouple: The Good, the Bad and the Ugly; E. S. Webster\n",
    "<a href=\"https://www.researchgate.net/publication/319875320_The_Type_N_Thermocouple_The_Good_the_Bad_and_the_Ugly\">link</a>\n",
    "3. WHITE PAPER How to Prevent Temperature Measurement Errors When Installing Thermocouple Sensors and Transmitters\n",
    "<a href=\"https://docplayer.net/20985926-White-paper-how-to-prevent-temperature-measurement-errors-when-installing-thermocouple-sensors-and-transmitters.html\">link</a>"
   ]
  }
 ],
 "metadata": {
  "kernelspec": {
   "display_name": "Python 3",
   "language": "python",
   "name": "python3"
  },
  "language_info": {
   "codemirror_mode": {
    "name": "ipython",
    "version": 3
   },
   "file_extension": ".py",
   "mimetype": "text/x-python",
   "name": "python",
   "nbconvert_exporter": "python",
   "pygments_lexer": "ipython3",
   "version": "3.8.5"
  }
 },
 "nbformat": 4,
 "nbformat_minor": 4
}
