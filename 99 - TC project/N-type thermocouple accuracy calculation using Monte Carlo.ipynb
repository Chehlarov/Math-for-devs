{
 "cells": [
  {
   "cell_type": "code",
   "execution_count": 1,
   "metadata": {},
   "outputs": [],
   "source": [
    "%matplotlib inline\n",
    "import numpy as np\n",
    "import matplotlib.pyplot as plt"
   ]
  },
  {
   "cell_type": "markdown",
   "metadata": {},
   "source": [
    "## Introduction\n",
    "Thermocouples are widely used for temperature sensors in the automotive industry for measurement of exhaust gas temperature. One of the most suitable thermocouple type is type N. Typical sensor is made from probe, flexible cable and electronics. A pair of solid leads is inserted in the probe. The signal is conducted to the electronics by the flexible wires, which are again type N thermocouple. This is needed to create cold junction close to the electronics, where RTD sensor is used to measure the cold junction temperature. Type N thermocouples are delivered according standards, defining their accuracy. The sensor accuracy depends on the accuracy of the leads pair, flexible wire pair and the electronics. The following project demonstrates how the accuracy of leads and wires are combined using Monte Carlo algorithm. There are several complications that make simpler methods not applicable: the temperature of the weld between leads and wires is not known; the generated voltage is not linearly proportional to the temperature difference; leads and wires are made from different batches and their electromotive force is not equal.\n",
    "![title](DTC.png)"
   ]
  },
  {
   "cell_type": "markdown",
   "metadata": {},
   "source": [
    "In this study both leads and wires are delivered according ASTM E230 Type N thermo couple with accuracy class 1. The functions below define the accuracy."
   ]
  },
  {
   "cell_type": "code",
   "execution_count": 71,
   "metadata": {},
   "outputs": [],
   "source": [
    "def leads_accuracy(Thot):\n",
    "    \"\"\"\n",
    "    Thot is the temperature of the hot junction in °C\n",
    "    The output is the maximum acceptable deviation in °C\n",
    "    It is assumed the lead supplier delivers TC pairs within the acceptable interval \n",
    "    with 3 sigma confidence (99.7%;Ppk = 1)\n",
    "    \"\"\"\n",
    "    if Thot >= 0:\n",
    "        return np.maximum(1.1, 0*0.004 * Thot)\n",
    "    else:\n",
    "        raise ValueError(\"ASTM E230 Type N class 1 does not cover sub zero temperatures\")\n",
    "\n",
    "def wires_accuracy(Thot):\n",
    "    \"\"\"\n",
    "    Thot is the temperature of the hot junction in °C\n",
    "    The output is the maximum acceptable deviation in °C\n",
    "    It is assumed the wire supplier delivers TC pairs within the acceptable interval \n",
    "    with 3 sigma confidence (99.7%;Ppk = 1)\n",
    "    \"\"\"\n",
    "    if Thot >= 0:\n",
    "        return np.maximum(1.1, 0*0.004 * Thot)\n",
    "    else:\n",
    "        raise ValueError(\"ASTM E230 Type N class 1 does not cover sub zero temperatures\")\n"
   ]
  },
  {
   "cell_type": "markdown",
   "metadata": {},
   "source": [
    "Let's plot the limits."
   ]
  },
  {
   "cell_type": "code",
   "execution_count": 51,
   "metadata": {},
   "outputs": [
    {
     "data": {
      "image/png": "[encoded data removed]",
      "text/plain": [
       "<Figure size 432x288 with 1 Axes>"
      ]
     },
     "metadata": {
      "needs_background": "light"
     },
     "output_type": "display_data"
    }
   ],
   "source": [
    "x_values = np.linspace(0, 1000, 100)\n",
    "y_values = np.vectorize(leads_accuracy)(x_values)\n",
    "plt.plot(x_values, y_values)\n",
    "plt.plot(x_values, -y_values)\n",
    "\n",
    "plt.title(\"TC type N class 1 accuracy according ASTM E230\")\n",
    "plt.xlabel(\"Temperature, °C\")\n",
    "plt.ylabel(\"Error, °C\")\n",
    "plt.show()"
   ]
  },
  {
   "cell_type": "markdown",
   "metadata": {},
   "source": [
    "It is important to note that any curve within the limits defined above is acceptable. It is possible some TC batch to show curve strating from the lower psecification limit (LSL) goes up to upper specification limit (USL) and then goes down to LSL."
   ]
  },
  {
   "cell_type": "markdown",
   "metadata": {},
   "source": [
    "In order to make the transformations from the generated voltage to temperature and reverse, we need to define functions for the nominal transformation. These functions are polynoms, also defined in ASTM E230. The polynom coeficents depends on the voltage of interest."
   ]
  },
  {
   "cell_type": "code",
   "execution_count": 188,
   "metadata": {},
   "outputs": [],
   "source": [
    "def temperature_typeN(emf):\n",
    "    \"\"\"\n",
    "    acc ASTM E230, table 46 TYPE N Thermocouple\n",
    "    E is the thermocouple emf in mV\n",
    "    returns in °C\n",
    "    \"\"\"\n",
    "    \n",
    "    #the last is the free coeficent\n",
    "    poly1 = np.poly1d([0.0073138868, 0.11582665, 0.77075166, 2.7754916, 5.8488586, 7.2060525, 5.2229312, 1.1010485, 38.436847,0])\n",
    "    poly2 = np.poly1d([-0.0000000798156, 0.0000053928, -0.000117272, -0.00000212169, 0.0470205, -1.08267, 38.6896, 0]) \n",
    "    poly3 = np.poly1d([0.0000007767022, -0.0001274371, 0.009855391, -0.3915159, 33.00943, 19.72485]) \n",
    "    \n",
    "    if -3.99 <= emf < 0:\n",
    "        return poly1(emf)\n",
    "    elif 0 <= emf < 20.613:\n",
    "        return poly2(emf)\n",
    "    elif 20.613 <= emf <= 47.513:\n",
    "        return poly3(emf)\n",
    "    else:\n",
    "        raise ValueError(f\"EMF value of {emf} outside specified range!\")\n",
    "\n",
    "# print(temperature_typeN(-2))\n",
    "# print(temperature_typeN(10))\n",
    "# print(temperature_typeN(30))\n",
    "\n",
    "def emf_typeN(t):\n",
    "    \"\"\"\n",
    "    acc ASTM E230, \n",
    "    t is the thermocouple hot junction temperature in °C\n",
    "    returns in mv\n",
    "    \"\"\"\n",
    "    #the last is the free coeficent\n",
    "    poly1 = np.poly1d([-9.3419667835E-20, -7.608930791E-17, -2.2653438003E-14, -2.633357716E-12, -4.6412039759E-11, -9.3841111554E-08, 0.000010957484228, 0.026159105962, 0])\n",
    "    poly2 = np.poly1d([-3.0682196151E-29, 2.0849229339E-25, -6.0863245607E-22, 9.9745338992E-19, -1.0063471519E-15, 6.4311819339E-13, -2.5261169794E-10, 4.3825627237E-08, 0.00001571014188, 0.025929394601, 0]) \n",
    "    \n",
    "    if -270 <= t < 0:\n",
    "        return poly1(t)\n",
    "    elif 0 <= t <= 1300:\n",
    "        return poly2(t)\n",
    "    else:\n",
    "        raise ValueError(\"Temperature outside specified range -270 to 1300°C\")\n",
    "\n",
    "def emf_typeN_derivative(t):\n",
    "    \"\"\"\n",
    "    acc ASTM E230, \n",
    "    t is the thermocouple hot junction temperature in °C\n",
    "    returns in mv\n",
    "    \"\"\"\n",
    "    #the last is the free coeficent\n",
    "    poly1 = np.poly1d([-9.3419667835E-20, -7.608930791E-17, -2.2653438003E-14, -2.633357716E-12, -4.6412039759E-11, -9.3841111554E-08, 0.000010957484228, 0.026159105962, 0])\n",
    "    poly2 = np.poly1d([-3.0682196151E-29, 2.0849229339E-25, -6.0863245607E-22, 9.9745338992E-19, -1.0063471519E-15, 6.4311819339E-13, -2.5261169794E-10, 4.3825627237E-08, 0.00001571014188, 0.025929394601, 0]) \n",
    "    poly1 = np.polyder(poly1)\n",
    "    poly2 = np.polyder(poly2)\n",
    "    \n",
    "    if -270 <= t < 0:\n",
    "        return poly1(t)\n",
    "    elif 0 <= t <= 1300:\n",
    "        return poly2(t)\n",
    "    else:\n",
    "        raise ValueError(\"Temperature outside specified range -270 to 1300°C\")\n",
    "        \n",
    "# print(temperature_typeN(emf_typeN(-200)))\n",
    "# print(temperature_typeN(emf_typeN(-10)))\n",
    "# print(temperature_typeN(emf_typeN(0)))\n",
    "# print(temperature_typeN(emf_typeN(100)))\n",
    "# print(temperature_typeN(emf_typeN(500)))\n",
    "# print(temperature_typeN(emf_typeN(1200)))"
   ]
  },
  {
   "cell_type": "markdown",
   "metadata": {},
   "source": [
    "Let's plot the relation between electromotive force (EMF) and temperature:"
   ]
  },
  {
   "cell_type": "code",
   "execution_count": 184,
   "metadata": {},
   "outputs": [
    {
     "data": {
      "image/png": "[encoded data removed]",
      "text/plain": [
       "<Figure size 432x288 with 1 Axes>"
      ]
     },
     "metadata": {
      "needs_background": "light"
     },
     "output_type": "display_data"
    }
   ],
   "source": [
    "x_values = np.linspace(-3.99, 47.513, 100)\n",
    "y_values = np.vectorize(temperature_typeN)(x_values)\n",
    "plt.plot(x_values, y_values)\n",
    "plt.title(\"EMF vs T for Type N thermocouple\")\n",
    "plt.xlabel(\"EMF, mV\")\n",
    "plt.ylabel(\"Temperature, °C\")\n",
    "plt.show()"
   ]
  },
  {
   "cell_type": "code",
   "execution_count": 190,
   "metadata": {},
   "outputs": [
    {
     "data": {
      "image/png": "[encoded data removed]",
      "text/plain": [
       "<Figure size 432x288 with 1 Axes>"
      ]
     },
     "metadata": {
      "needs_background": "light"
     },
     "output_type": "display_data"
    }
   ],
   "source": [
    "x_values = np.linspace(-200, 1200, 100)\n",
    "y_values = np.vectorize(emf_typeN_derivative)(x_values)*1000\n",
    "plt.plot(x_values, y_values)\n",
    "plt.title(\"EMF vs T for Type N thermocouple\")\n",
    "plt.xlabel(\"Temperature, °C\")\n",
    "plt.ylabel(\"EMF, µV/°C\")\n",
    "plt.show()"
   ]
  },
  {
   "cell_type": "markdown",
   "metadata": {},
   "source": [
    "## How does the sensor work\n",
    "![title](TC_schema.png)\n",
    "Steps to calculate the hot junction temperature:\n",
    "1. ASIC measures the cold junction temperature (T2)\n",
    "2. The ASIC measures the voltage across the cold junction (V2)\n",
    "3. Calcualtes the expected V1 = f(T2)\n",
    "4. Calcualtes V3 = V1 + V2\n",
    "5. Calculates the hot junction temperature T3 = f(V3)"
   ]
  },
  {
   "cell_type": "markdown",
   "metadata": {},
   "source": [
    "## Accuracy calculations\n",
    "If the sensor was made from only one pair of leads, the accuracy is straightforward - defined in ASTM E230. However, the sensor consists of two pairs produced from diffrent material batches. The actual EMF characteristic may (will) differ for the leads and wires. It will be assumed the accuracy of delivered batches follows normal distribution with 3 sigma confidnce (Ppk=1). Such assumption is normal practise in the inidustry. Higher Ppk values could be requested, but are deemed as not feasable due to technology limitations and expected price increase.\n",
    "Keep in mind that both ends of one TC pair add error. \n",
    "It will be assumed the temperature of the weld between the leads and wires is at the minimum of 0.3*T and 260°C. This assumption is realsitic, the upper limit of 260°C is defined by the resistance of the FKM seal. Also the accuracy limits are the same (±1.1°C) up to 275°C.\n",
    "The temperature of the cold junction will be assumed 25°C. This value is below 275°C and the added error will be ±1.1°C.\n"
   ]
  },
  {
   "cell_type": "code",
   "execution_count": 83,
   "metadata": {},
   "outputs": [],
   "source": [
    "def error_monte_carlo(t):\n",
    "    NUMBER_OF_COMBOS = 1000\n",
    "    trh = np.minimum(0.3*t, 260)\n",
    "    t_cold_junction = 20\n",
    "    errors = []\n",
    "    for _ in range(NUMBER_OF_COMBOS):\n",
    "        v_leads = emf_typeN(np.random.default_rng().normal(loc=t, scale=leads_accuracy(t) / 3)) - \\\n",
    "                  emf_typeN(np.random.default_rng().normal(loc=trh, scale=leads_accuracy(trh) / 3))\n",
    "        v_wires = emf_typeN(np.random.default_rng().normal(loc=trh, scale=wires_accuracy(trh) / 3)) - \\\n",
    "                  emf_typeN(np.random.default_rng().normal(loc=t_cold_junction, scale=wires_accuracy(t_cold_junction) / 3))\n",
    "        #one could say the net effect of the RH temperature is zero, but he is not right.\n",
    "        #the RH temeprature adds variation\n",
    "#         v_wires = 0 #TODO: remove \n",
    "        v_cold_junction = v_leads + v_wires\n",
    "        # we are assuming the electronics adds no error; below is the calcualtion done by the electronics\n",
    "        v_cold_junction_ref = emf_typeN(t_cold_junction)\n",
    "#         print(f\"v_cold_junction = {v_cold_junction}\")\n",
    "#         print(f\"v_cold_junction_ref = {v_cold_junction_ref}\")\n",
    "        \n",
    "        t_calculated = temperature_typeN(v_cold_junction + v_cold_junction_ref)\n",
    "        errors.append(t_calculated - t)\n",
    "    return errors\n",
    "\n",
    "def range_of_error_monte_carlo(t):\n",
    "    errors = error_monte_carlo(t)\n",
    "    return np.mean(errors), np.std(errors)"
   ]
  },
  {
   "cell_type": "markdown",
   "metadata": {},
   "source": [
    "# Why the eroro is higher at 0???"
   ]
  },
  {
   "cell_type": "code",
   "execution_count": 137,
   "metadata": {},
   "outputs": [
    {
     "name": "stdout",
     "output_type": "stream",
     "text": [
      "(-0.06472976090859794, 0.679894073109335)\n",
      "(0.000700000691213262, 0.64446859352799)\n",
      "(-0.01680292155164729, 0.7613271897770804)\n",
      "(0.0251775040610923, 0.7325758174737822)\n",
      "(0.03471570133680559, 0.7428483376742994)\n",
      "(0.031451428654045537, 0.7236843163575598)\n"
     ]
    }
   ],
   "source": [
    "# test section: Why the error at 0°C is higher than the error at 200°>\n",
    "\n",
    "print(range_of_error_monte_carlo(100))\n",
    "print(range_of_error_monte_carlo(200))\n",
    "print(range_of_error_monte_carlo(0))\n",
    "print(range_of_error_monte_carlo(0))\n",
    "print(range_of_error_monte_carlo(1))\n",
    "print(range_of_error_monte_carlo(2))"
   ]
  },
  {
   "cell_type": "code",
   "execution_count": 180,
   "metadata": {},
   "outputs": [
    {
     "name": "stdout",
     "output_type": "stream",
     "text": [
      "mean= -0.0035642538159819637, stdev =0.5204258087802455\n",
      "mean= -199.99522577837826, stdev =0.5236119287618834\n"
     ]
    }
   ],
   "source": [
    "# with this linear functions the stdev is the same\n",
    "# the actual functions are not linear and the result of monte carlo shows bigger error at 0°C\n",
    "# def emf_typeN(x):\n",
    "#     return x*2\n",
    "\n",
    "# def temperature_typeN(x):\n",
    "#     return x/2\n",
    "\n",
    "t=0\n",
    "trh=0\n",
    "data =[]\n",
    "for _ in range(10000):\n",
    "    v_leads = 1*emf_typeN(np.random.default_rng().normal(loc=t, scale=1.1 / 3)) - \\\n",
    "              1*emf_typeN(np.random.default_rng().normal(loc=trh, scale=1.1 / 3))\n",
    "    \n",
    "    data.append(temperature_typeN(v_leads) - t)\n",
    "print(f\"mean= {np.mean(data)}, stdev ={np.std(data)}\")\n",
    "\n",
    "t=0\n",
    "trh=200\n",
    "data =[]\n",
    "for _ in range(10000):\n",
    "    v_leads = 1*emf_typeN(np.random.default_rng().normal(loc=t, scale=1.1/ 3)) - \\\n",
    "              1*emf_typeN(np.random.default_rng().normal(loc=trh, scale=1.1 / 3))\n",
    "    data.append(temperature_typeN(v_leads) - t)\n",
    "print(f\"mean= {np.mean(data)}, stdev ={np.std(data)}\")"
   ]
  },
  {
   "cell_type": "markdown",
   "metadata": {},
   "source": [
    "Testing the function at 1000°C:"
   ]
  },
  {
   "cell_type": "code",
   "execution_count": 63,
   "metadata": {},
   "outputs": [
    {
     "name": "stdout",
     "output_type": "stream",
     "text": [
      "The expected error is within 0.04±2.24°C with 3 sigma confidence.\n"
     ]
    },
    {
     "data": {
      "image/png": "[encoded data removed]",
      "text/plain": [
       "<Figure size 432x288 with 1 Axes>"
      ]
     },
     "metadata": {
      "needs_background": "light"
     },
     "output_type": "display_data"
    }
   ],
   "source": [
    "errors = error_monte_carlo(0)\n",
    "sigma = np.std(errors)\n",
    "mu = np.mean(errors)\n",
    "print(f\"The expected error is within {mu:.2f}±{3*sigma:.2f}°C with 3 sigma confidence.\")\n",
    "count, bins, ignored = plt.hist(errors, 30, density=True)\n",
    "plt.plot(bins, 1/(sigma * np.sqrt(2 * np.pi)) * np.exp( - (bins - mu)**2 / (2 * sigma**2) ), linewidth=2, color='r')\n",
    "plt.show()"
   ]
  },
  {
   "cell_type": "code",
   "execution_count": 140,
   "metadata": {},
   "outputs": [
    {
     "name": "stdout",
     "output_type": "stream",
     "text": [
      "(0.0, 0.7225880440334519)\n",
      "(1.0, 0.7373263433664462)\n",
      "(2.0, 0.7381228285460406)\n",
      "(33.333333333333336, 0.7114008618629806)\n",
      "(66.66666666666667, 0.7224480429708794)\n",
      "(100.0, 0.6713526220090575)\n",
      "(133.33333333333334, 0.6535593673594521)\n",
      "(166.66666666666669, 0.6408595487693309)\n",
      "(200.0, 0.6511019464448327)\n",
      "(233.33333333333334, 0.62557278835451)\n",
      "(266.6666666666667, 0.6140945129655832)\n",
      "(275.0, 0.6149831160210918)\n",
      "(300.0, 0.629256178022129)\n"
     ]
    },
    {
     "data": {
      "image/png": "[encoded data removed]",
      "text/plain": [
       "<Figure size 432x288 with 1 Axes>"
      ]
     },
     "metadata": {
      "needs_background": "light"
     },
     "output_type": "display_data"
    }
   ],
   "source": [
    "def error_in_temperature_range(t_min, t_max):\n",
    "    x = np.linspace(t_min, t_max, 10)\n",
    "    x = np.sort(np.append(x, [1.1/0.004, 1, 2])) #adding a key point\n",
    "    \n",
    "    y, y_dev = np.vectorize(range_of_error_monte_carlo)(x)\n",
    "    print(*list(zip(x, y_dev)), sep='\\n')\n",
    "    plt.plot(x, y+y_dev, color = \"red\")\n",
    "    plt.plot(x, y, color = \"black\")\n",
    "    plt.plot(x, y-y_dev, color = \"red\")\n",
    "    plt.show()\n",
    "error_in_temperature_range(0, 300)"
   ]
  }
 ],
 "metadata": {
  "kernelspec": {
   "display_name": "Python 3",
   "language": "python",
   "name": "python3"
  },
  "language_info": {
   "codemirror_mode": {
    "name": "ipython",
    "version": 3
   },
   "file_extension": ".py",
   "mimetype": "text/x-python",
   "name": "python",
   "nbconvert_exporter": "python",
   "pygments_lexer": "ipython3",
   "version": "3.8.5"
  }
 },
 "nbformat": 4,
 "nbformat_minor": 4
}
